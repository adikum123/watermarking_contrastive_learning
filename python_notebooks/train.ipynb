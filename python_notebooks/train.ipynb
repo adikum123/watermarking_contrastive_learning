{
 "cells": [
  {
   "cell_type": "markdown",
   "id": "aa1058c8",
   "metadata": {},
   "source": [
    "Get github repo:"
   ]
  },
  {
   "cell_type": "code",
   "execution_count": null,
   "id": "7415fcf0",
   "metadata": {
    "vscode": {
     "languageId": "plaintext"
    }
   },
   "outputs": [],
   "source": [
    "!git clone https://github.com/adikum123/watermarking_contrastive_learning.git"
   ]
  },
  {
   "cell_type": "markdown",
   "id": "3f8a1569",
   "metadata": {},
   "source": [
    "Move to dir:"
   ]
  },
  {
   "cell_type": "code",
   "execution_count": null,
   "id": "eba2c476",
   "metadata": {
    "vscode": {
     "languageId": "plaintext"
    }
   },
   "outputs": [],
   "source": [
    "%cd /content/watermarking_contrastive_learning"
   ]
  },
  {
   "cell_type": "markdown",
   "id": "161c97a9",
   "metadata": {},
   "source": [
    "Mount data from Google drive:"
   ]
  },
  {
   "cell_type": "code",
   "execution_count": null,
   "id": "23ac0364",
   "metadata": {
    "vscode": {
     "languageId": "plaintext"
    }
   },
   "outputs": [],
   "source": [
    "from google.colab import drive\n",
    "\n",
    "drive.mount('/content/drive')"
   ]
  },
  {
   "cell_type": "markdown",
   "id": "da90ff36",
   "metadata": {},
   "source": [
    "Copy train data:"
   ]
  },
  {
   "cell_type": "code",
   "execution_count": null,
   "id": "be36f80a",
   "metadata": {
    "vscode": {
     "languageId": "plaintext"
    }
   },
   "outputs": [],
   "source": [
    "!cp -r \"/content/drive/MyDrive/cv-corpus-22.0-delta-2025-06-20-en\" \"/content/watermarking_contrastive_learning\""
   ]
  },
  {
   "cell_type": "markdown",
   "id": "4f154ccd",
   "metadata": {},
   "source": [
    "Install requirements:"
   ]
  },
  {
   "cell_type": "code",
   "execution_count": null,
   "id": "5b14025b",
   "metadata": {
    "vscode": {
     "languageId": "plaintext"
    }
   },
   "outputs": [],
   "source": [
    "!pip install -r requirements.txt"
   ]
  },
  {
   "cell_type": "markdown",
   "id": "db5b2078",
   "metadata": {},
   "source": [
    "Run regular Timbre watermarking training:"
   ]
  },
  {
   "cell_type": "code",
   "execution_count": null,
   "id": "dc3ac196",
   "metadata": {
    "vscode": {
     "languageId": "plaintext"
    }
   },
   "outputs": [],
   "source": [
    "!python train.py"
   ]
  }
 ],
 "metadata": {
  "language_info": {
   "name": "python"
  }
 },
 "nbformat": 4,
 "nbformat_minor": 5
}
